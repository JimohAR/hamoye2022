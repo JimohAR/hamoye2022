{
  "nbformat": 4,
  "nbformat_minor": 0,
  "metadata": {
    "colab": {
      "name": "week2.ipynb",
      "provenance": [],
      "collapsed_sections": []
    },
    "kernelspec": {
      "name": "python3",
      "display_name": "Python 3"
    },
    "language_info": {
      "name": "python"
    }
  },
  "cells": [
    {
      "cell_type": "code",
      "execution_count": 103,
      "metadata": {
        "id": "7o1jVML41BwX"
      },
      "outputs": [],
      "source": [
        "import numpy as np\n",
        "import pandas as pd\n",
        "\n",
        "from sklearn.preprocessing import MinMaxScaler\n",
        "from sklearn.linear_model import LinearRegression, Ridge, Lasso\n",
        "from sklearn.model_selection import train_test_split as tts\n",
        "from sklearn.metrics import mean_absolute_error as MAE, mean_squared_error as MSE, r2_score"
      ]
    },
    {
      "cell_type": "code",
      "source": [
        "data = pd.read_csv(\"https://archive.ics.uci.edu/ml/machine-learning-databases/00374/energydata_complete.csv\")"
      ],
      "metadata": {
        "id": "1JQW00Hp1FXr"
      },
      "execution_count": 104,
      "outputs": []
    },
    {
      "cell_type": "code",
      "source": [
        "data.info()"
      ],
      "metadata": {
        "colab": {
          "base_uri": "https://localhost:8080/"
        },
        "id": "oXKoNjTq1MJq",
        "outputId": "2e90424a-25ec-43dd-a266-dac702bd8b25"
      },
      "execution_count": 105,
      "outputs": [
        {
          "output_type": "stream",
          "name": "stdout",
          "text": [
            "<class 'pandas.core.frame.DataFrame'>\n",
            "RangeIndex: 19735 entries, 0 to 19734\n",
            "Data columns (total 29 columns):\n",
            " #   Column       Non-Null Count  Dtype  \n",
            "---  ------       --------------  -----  \n",
            " 0   date         19735 non-null  object \n",
            " 1   Appliances   19735 non-null  int64  \n",
            " 2   lights       19735 non-null  int64  \n",
            " 3   T1           19735 non-null  float64\n",
            " 4   RH_1         19735 non-null  float64\n",
            " 5   T2           19735 non-null  float64\n",
            " 6   RH_2         19735 non-null  float64\n",
            " 7   T3           19735 non-null  float64\n",
            " 8   RH_3         19735 non-null  float64\n",
            " 9   T4           19735 non-null  float64\n",
            " 10  RH_4         19735 non-null  float64\n",
            " 11  T5           19735 non-null  float64\n",
            " 12  RH_5         19735 non-null  float64\n",
            " 13  T6           19735 non-null  float64\n",
            " 14  RH_6         19735 non-null  float64\n",
            " 15  T7           19735 non-null  float64\n",
            " 16  RH_7         19735 non-null  float64\n",
            " 17  T8           19735 non-null  float64\n",
            " 18  RH_8         19735 non-null  float64\n",
            " 19  T9           19735 non-null  float64\n",
            " 20  RH_9         19735 non-null  float64\n",
            " 21  T_out        19735 non-null  float64\n",
            " 22  Press_mm_hg  19735 non-null  float64\n",
            " 23  RH_out       19735 non-null  float64\n",
            " 24  Windspeed    19735 non-null  float64\n",
            " 25  Visibility   19735 non-null  float64\n",
            " 26  Tdewpoint    19735 non-null  float64\n",
            " 27  rv1          19735 non-null  float64\n",
            " 28  rv2          19735 non-null  float64\n",
            "dtypes: float64(26), int64(2), object(1)\n",
            "memory usage: 4.4+ MB\n"
          ]
        }
      ]
    },
    {
      "cell_type": "markdown",
      "source": [
        "From the dataset, fit a linear model on the relationship between the temperature in the living room in Celsius (x = T2) and the temperature outside the building (y = T6). What is the R^2 value in two d.p.?"
      ],
      "metadata": {
        "id": "8ITNaPjj34y4"
      }
    },
    {
      "cell_type": "code",
      "source": [
        "scaler = MinMaxScaler()"
      ],
      "metadata": {
        "id": "5Wq-sHZx10Vr"
      },
      "execution_count": 106,
      "outputs": []
    },
    {
      "cell_type": "code",
      "source": [
        "X, y = data[[\"T2\"]], data[\"T6\"]\n",
        "\n",
        "X_scaled = scaler.fit_transform(X)\n",
        "\n",
        "lin_model = LinearRegression().fit(X_scaled, y)\n",
        "\n",
        "print(round(lin_model.score(X_scaled, y), 2))"
      ],
      "metadata": {
        "colab": {
          "base_uri": "https://localhost:8080/"
        },
        "id": "OGVU5zit1WqX",
        "outputId": "574c5d62-2255-41c4-b5be-2e1bb93ed82e"
      },
      "execution_count": 107,
      "outputs": [
        {
          "output_type": "stream",
          "name": "stdout",
          "text": [
            "0.64\n"
          ]
        }
      ]
    },
    {
      "cell_type": "markdown",
      "source": [
        "#### Normalize the dataset using the MinMaxScaler after removing the following columns: [“date”, “lights”]. The target variable is “Appliances”. Use a 70-30 train-test set split with a random state of 42 (for reproducibility). Run a multiple linear regression using the training set and evaluate your model on the test set. Answer the following questions:"
      ],
      "metadata": {
        "id": "NjFt-dqf4nxD"
      }
    },
    {
      "cell_type": "code",
      "source": [
        "X = data.drop(columns=[\"date\", \"lights\", \"Appliances\"])\n",
        "y = data[\"Appliances\"]\n",
        "\n",
        "# normalize the data\n",
        "X_scaled = scaler.fit_transform(X)\n",
        "\n",
        "# split the data 70:30\n",
        "X_train, X_test, y_train, y_test = tts(X_scaled, y, test_size=0.3, random_state=42)\n",
        "\n",
        "# run multiple linear regression\n",
        "lin_model = LinearRegression().fit(X_train, y_train)\n",
        "\n",
        "# predict X_test\n",
        "y_pred = lin_model.predict(X_test)"
      ],
      "metadata": {
        "id": "SyEwWi-kB-rE"
      },
      "execution_count": 108,
      "outputs": []
    },
    {
      "cell_type": "markdown",
      "source": [
        "What is the Mean Absolute Error (in two decimal places)?"
      ],
      "metadata": {
        "id": "eQdukXCO4tgW"
      }
    },
    {
      "cell_type": "code",
      "source": [
        "# evaluate with MAE\n",
        "print(round( MAE(y_test, y_pred), 2 ))"
      ],
      "metadata": {
        "colab": {
          "base_uri": "https://localhost:8080/"
        },
        "id": "ag66ekPb4nLq",
        "outputId": "14cb7ce4-fac9-4f17-ea7e-f7205df14eeb"
      },
      "execution_count": 109,
      "outputs": [
        {
          "output_type": "stream",
          "name": "stdout",
          "text": [
            "53.64\n"
          ]
        }
      ]
    },
    {
      "cell_type": "markdown",
      "source": [
        "What is the Residual Sum of Squares (in two decimal places)?"
      ],
      "metadata": {
        "id": "OJ-6XRgv_ZVR"
      }
    },
    {
      "cell_type": "code",
      "source": [
        "# evaluate with RSS\n",
        "\n",
        "def RSS(y_test, y_pred):\n",
        "    return np.sum( np.square(y_test - y_pred) )\n",
        "\n",
        "print(round( RSS(y_test, y_pred), 2 ))"
      ],
      "metadata": {
        "colab": {
          "base_uri": "https://localhost:8080/"
        },
        "id": "bGONabdz3geN",
        "outputId": "df1fc654-3faf-4b8b-f7c3-caccee1ea4d3"
      },
      "execution_count": 110,
      "outputs": [
        {
          "output_type": "stream",
          "name": "stdout",
          "text": [
            "51918501.21\n"
          ]
        }
      ]
    },
    {
      "cell_type": "markdown",
      "source": [
        "What is the Root Mean Squared Error (in three decimal places)?"
      ],
      "metadata": {
        "id": "MC_koVELBA_-"
      }
    },
    {
      "cell_type": "code",
      "source": [
        "# evaluate with RMSE\n",
        "print(round( MSE(y_test, y_pred, squared= False), 3 ))"
      ],
      "metadata": {
        "colab": {
          "base_uri": "https://localhost:8080/"
        },
        "id": "9Jlarflj_JXx",
        "outputId": "43eabdeb-069c-43e3-afb8-0345bca427ca"
      },
      "execution_count": 111,
      "outputs": [
        {
          "output_type": "stream",
          "name": "stdout",
          "text": [
            "93.64\n"
          ]
        }
      ]
    },
    {
      "cell_type": "markdown",
      "source": [
        "What is the Coefficient of Determination (in two decimal places)?"
      ],
      "metadata": {
        "id": "8EOJPe34CWBO"
      }
    },
    {
      "cell_type": "code",
      "source": [
        "# evaluate with r2_score or with model.score()\n",
        "print(round( r2_score(y_test, y_pred), 2 ))"
      ],
      "metadata": {
        "colab": {
          "base_uri": "https://localhost:8080/"
        },
        "id": "YVsL16KdBrfa",
        "outputId": "6b9f7069-ed6a-42f2-e447-dd049d58c23d"
      },
      "execution_count": 112,
      "outputs": [
        {
          "output_type": "stream",
          "name": "stdout",
          "text": [
            "0.15\n"
          ]
        }
      ]
    },
    {
      "cell_type": "markdown",
      "source": [
        "Obtain the feature weights from your linear model above. Which features have the lowest and highest weights respectively?"
      ],
      "metadata": {
        "id": "7QKHiYGZDA2q"
      }
    },
    {
      "cell_type": "code",
      "source": [
        "weights = list(zip(lin_model.coef_, X.columns))\n",
        "print(min(weights), max(weights))"
      ],
      "metadata": {
        "colab": {
          "base_uri": "https://localhost:8080/"
        },
        "id": "vaHsY01TCkYU",
        "outputId": "5e5053e5-988d-44a5-ea81-b47c21631960"
      },
      "execution_count": 113,
      "outputs": [
        {
          "output_type": "stream",
          "name": "stdout",
          "text": [
            "(-488.66680472219576, 'RH_2') (592.294861827345, 'RH_1')\n"
          ]
        }
      ]
    },
    {
      "cell_type": "markdown",
      "source": [
        "Train a ridge regression model with an alpha value of 0.4. Is there any change to the root mean squared error (RMSE) when evaluated on the test set?"
      ],
      "metadata": {
        "id": "eRWLrKotMIfW"
      }
    },
    {
      "cell_type": "code",
      "source": [
        "# train with ridge regression\n",
        "ridge = ridge = Ridge(alpha=0.4, random_state=42).fit(X_train, y_train)\n",
        "\n",
        "# predict X_test\n",
        "y_pred = ridge.predict(X_test)\n",
        "\n",
        "# evaluate with RMSE\n",
        "print(round( MSE(y_test, y_pred, squared= False), 3 ), \"\\nAs you can see there is a slight difference\")"
      ],
      "metadata": {
        "colab": {
          "base_uri": "https://localhost:8080/"
        },
        "id": "Xyzh_aZbG5yl",
        "outputId": "74159b57-3a17-4907-cc4a-d10985c93cd0"
      },
      "execution_count": 114,
      "outputs": [
        {
          "output_type": "stream",
          "name": "stdout",
          "text": [
            "93.661 \n",
            "As you can see there is a slight difference\n"
          ]
        }
      ]
    },
    {
      "cell_type": "markdown",
      "source": [
        "Train a lasso regression model with an alpha value of 0.001 and obtain the new feature weights with it. How many of the features have non-zero feature weights?"
      ],
      "metadata": {
        "id": "vhGHYLG0NLqW"
      }
    },
    {
      "cell_type": "code",
      "source": [
        "# train with ridge regression\n",
        "lasso = Lasso(alpha=0.001, random_state=42).fit(X_train, y_train)\n",
        "\n",
        "# determine the number of feature weights that are not zero\n",
        "print((lasso.coef_ != 0).sum())"
      ],
      "metadata": {
        "colab": {
          "base_uri": "https://localhost:8080/"
        },
        "id": "hp72d8F6LhnS",
        "outputId": "07d21ade-186c-425e-cd4a-512c4c3f463a"
      },
      "execution_count": 115,
      "outputs": [
        {
          "output_type": "stream",
          "name": "stdout",
          "text": [
            "25\n"
          ]
        }
      ]
    },
    {
      "cell_type": "markdown",
      "source": [
        "What is the new RMSE with the lasso regression? (Answer should be in three (3) decimal places)"
      ],
      "metadata": {
        "id": "WH3pWKPYPqoC"
      }
    },
    {
      "cell_type": "code",
      "source": [
        "# predict X_test\n",
        "y_pred = lasso.predict(X_test)\n",
        "\n",
        "# evaluate with RMSE\n",
        "print(round( MSE(y_test, y_pred, squared= False), 3 ))"
      ],
      "metadata": {
        "colab": {
          "base_uri": "https://localhost:8080/"
        },
        "id": "D6hOuIXjNpHC",
        "outputId": "cc99469e-7aaa-4daa-a57b-2c25ba425f45"
      },
      "execution_count": 116,
      "outputs": [
        {
          "output_type": "stream",
          "name": "stdout",
          "text": [
            "93.641\n"
          ]
        }
      ]
    }
  ]
}